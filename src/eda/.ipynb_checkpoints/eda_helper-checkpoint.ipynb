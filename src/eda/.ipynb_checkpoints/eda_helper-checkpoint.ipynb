{
 "cells": [
  {
   "cell_type": "code",
   "execution_count": 1,
   "metadata": {},
   "outputs": [],
   "source": [
    "data = \"./../../data/\"\n",
    "reddit = data + \"reddit/\"\n",
    "gab = data + \"gab/\""
   ]
  },
  {
   "cell_type": "code",
   "execution_count": 2,
   "metadata": {},
   "outputs": [],
   "source": [
    "import json"
   ]
  },
  {
   "cell_type": "code",
   "execution_count": 4,
   "metadata": {},
   "outputs": [],
   "source": [
    "\n",
    "def importData(path):\n",
    "    train = path + \"train.json\"\n",
    "    test = path + \"test.json\"  \n",
    "    val = path + \"val.json\"    \n",
    "    train_data = json.load(open(train))\n",
    "    test_data = json.load(open(test))    \n",
    "    val_data = json.load(open(val)) \n",
    "    return train_data, test_data, val_data"
   ]
  },
  {
   "cell_type": "code",
   "execution_count": 5,
   "metadata": {},
   "outputs": [],
   "source": [
    "reddit_train,reddit_test, reddit_val = importData(reddit)"
   ]
  },
  {
   "cell_type": "code",
   "execution_count": 8,
   "metadata": {},
   "outputs": [],
   "source": [
    "gab_train,gab_test, gab_val = importData(gab)"
   ]
  },
  {
   "cell_type": "code",
   "execution_count": 12,
   "metadata": {},
   "outputs": [],
   "source": [
    "def convertToEDAFormat(data):\n",
    "    lines = [str(i['target']) + '\\t' + ' '.join(i['source'].split()) for i in data]\n",
    "    return lines\n",
    "    "
   ]
  },
  {
   "cell_type": "code",
   "execution_count": 28,
   "metadata": {},
   "outputs": [],
   "source": [
    "lines = convertToEDAFormat(reddit_train)"
   ]
  },
  {
   "cell_type": "code",
   "execution_count": 29,
   "metadata": {},
   "outputs": [],
   "source": [
    "def writeLinesToFile( lines, filename):\n",
    "    with open(filename,'w') as handle:\n",
    "        for line in lines:\n",
    "            handle.write(line)\n",
    "            handle.write('\\n')\n",
    "            \n",
    "    "
   ]
  },
  {
   "cell_type": "code",
   "execution_count": 30,
   "metadata": {},
   "outputs": [],
   "source": [
    "writeLinesToFile(lines, \"reddit_train_eda.txt\")"
   ]
  },
  {
   "cell_type": "code",
   "execution_count": 33,
   "metadata": {},
   "outputs": [],
   "source": [
    "eda_data= \"/home/badwolf/work/acads/sem9/soccomp/eda_nlp/data/\""
   ]
  },
  {
   "cell_type": "code",
   "execution_count": 45,
   "metadata": {},
   "outputs": [],
   "source": [
    "def getEDAData(eda_path, filename):\n",
    "    with open(eda_path + filename) as handle:\n",
    "        eda_raw = handle.read().split('\\n')\n",
    "    eda_data_json = []\n",
    "    for i in eda_raw:\n",
    "        sent = i.split('\\t')\n",
    "        if sent[0] == '':\n",
    "            continue\n",
    "        eda_data_json.append({'source':' '.join(sent[1:]), 'target':int(sent[0])})\n",
    "    return eda_data_json\n"
   ]
  },
  {
   "cell_type": "code",
   "execution_count": 46,
   "metadata": {},
   "outputs": [],
   "source": [
    "def writeJSONToFile(data, filename):\n",
    "    with open(filename,'w') as handle:\n",
    "        json.dump(data,handle)"
   ]
  },
  {
   "cell_type": "code",
   "execution_count": 50,
   "metadata": {},
   "outputs": [],
   "source": [
    "eda_gab = getEDAData(eda_data,'eda_gab_train_eda.txt')\n",
    "writeJSONToFile(eda_gab,'eda_gab_train.json')\n",
    "eda_reddit =  getEDAData(eda_data,'eda_reddit_train_eda.txt')\n",
    "writeJSONToFile(eda_reddit,'eda_reddit_train.json')\n"
   ]
  },
  {
   "cell_type": "code",
   "execution_count": 44,
   "metadata": {},
   "outputs": [],
   "source": []
  },
  {
   "cell_type": "code",
   "execution_count": 51,
   "metadata": {},
   "outputs": [
    {
     "data": {
      "text/plain": [
       "[{'source': 'being proud will solve the in that location problem of those retards i say induce it s time to stand up and be tough and woop there asses when they cause retarded scenes like that other wise there in that location ganna stomp all over you',\n",
       "  'target': 1},\n",
       " {'source': 'being proud will solve the problem of those retards i it s time to stand up and be tough and there when they cause retarded scenes like that other wise there ganna stomp all over you',\n",
       "  'target': 1},\n",
       " {'source': 'being proud will solve the problem of those retards i say it s metre to stand up and be tough and woop there asses when they cause retarded scenes like that other judicious there ganna stamp all over you',\n",
       "  'target': 1},\n",
       " {'source': 'being proud will solve the problem of those retards i say it s time to stand up and be sulfur tough and woop there asses when they cause retarded scenes like that other developmentally challenged wise there ganna constitute stomp all over you',\n",
       "  'target': 1},\n",
       " {'source': 'being proud will solve the problem of those retards i say s time to stand up and be tough woop there asses when they cause retarded scenes like that other there ganna stomp all over you',\n",
       "  'target': 1},\n",
       " {'source': 'being proud will solve the problem of those retards i say it s time to put up up and be hoodlum and woop there asses when they campaign retarded scenes like that other wise there ganna stomp all over you',\n",
       "  'target': 1},\n",
       " {'source': 'being gallant will clear the problem of those retards i say it s time to stand up and be tough and woop there asses when they cause slow down scenes like that other wise there ganna stomp all over you',\n",
       "  'target': 1},\n",
       " {'source': 'being that tough solve the problem of those retards i say it s time to stand up and be will and woop there other when they cause retarded scenes like proud asses wise there ganna stomp all over you',\n",
       "  'target': 1},\n",
       " {'source': 'to proud will solve the problem of those retards i wise it s time being stand up and be tough and woop there asses when over cause retarded scenes like that other say there ganna stomp all they you',\n",
       "  'target': 1},\n",
       " {'source': 'being proud will solve the problem of those retards i say it s time to stand up and be tough and woop there asses when they cause retarded scenes like that other wise there ganna stomp all over you ',\n",
       "  'target': 1}]"
      ]
     },
     "execution_count": 51,
     "metadata": {},
     "output_type": "execute_result"
    }
   ],
   "source": [
    "eda_gab[0:10]"
   ]
  },
  {
   "cell_type": "code",
   "execution_count": null,
   "metadata": {},
   "outputs": [],
   "source": []
  }
 ],
 "metadata": {
  "kernelspec": {
   "display_name": "Python 3",
   "language": "python",
   "name": "python3"
  },
  "language_info": {
   "codemirror_mode": {
    "name": "ipython",
    "version": 3
   },
   "file_extension": ".py",
   "mimetype": "text/x-python",
   "name": "python",
   "nbconvert_exporter": "python",
   "pygments_lexer": "ipython3",
   "version": "3.8.3"
  }
 },
 "nbformat": 4,
 "nbformat_minor": 4
}
