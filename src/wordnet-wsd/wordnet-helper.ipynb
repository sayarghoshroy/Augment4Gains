{
 "cells": [
  {
   "cell_type": "code",
   "execution_count": 1,
   "metadata": {},
   "outputs": [],
   "source": [
    "import json "
   ]
  },
  {
   "cell_type": "code",
   "execution_count": 2,
   "metadata": {},
   "outputs": [],
   "source": [
    "data = \"./../../data/\"\n",
    "reddit = data + \"reddit/\"\n",
    "gab = data + \"gab/\""
   ]
  },
  {
   "cell_type": "code",
   "execution_count": 3,
   "metadata": {},
   "outputs": [],
   "source": [
    "\n",
    "def importData(path):\n",
    "    train = path + \"train.json\"\n",
    "    test = path + \"test.json\"  \n",
    "    val = path + \"val.json\"    \n",
    "    train_data = json.load(open(train))\n",
    "    test_data = json.load(open(test))    \n",
    "    val_data = json.load(open(val)) \n",
    "    return train_data, test_data, val_data"
   ]
  },
  {
   "cell_type": "code",
   "execution_count": 4,
   "metadata": {},
   "outputs": [],
   "source": [
    "reddit_train,reddit_test, reddit_val = importData(reddit)"
   ]
  },
  {
   "cell_type": "code",
   "execution_count": 5,
   "metadata": {},
   "outputs": [],
   "source": [
    "gab_train,gab_test, gab_val = importData(gab)"
   ]
  },
  {
   "cell_type": "code",
   "execution_count": 6,
   "metadata": {},
   "outputs": [],
   "source": [
    "import nltk\n",
    "from string import punctuation\n",
    "\n",
    "try:\n",
    "    nltk.data.find('corpora/wordnet')\n",
    "except LookupError:\n",
    "    nltk.download('wordnet')\n",
    "from nltk.corpus import wordnet as wn\n",
    "\n",
    "WORDNET_POS = {'VERB': wn.VERB, 'NOUN': wn.NOUN, 'ADJ': wn.ADJ, 'ADV': wn.ADV}\n",
    "\n",
    "\n",
    "def _get_info(lemma, pos, info_type):\n",
    "    results = dict()\n",
    "\n",
    "    wn_pos = WORDNET_POS[pos] if pos is not None else None\n",
    "    morphemes = wn._morphy(lemma, pos=wn_pos) if pos is not None else []\n",
    "    for i, synset in enumerate(set(wn.synsets(lemma, pos=wn_pos))):\n",
    "        sense_key = None\n",
    "        for l in synset.lemmas():\n",
    "            if l.name().lower() == lemma.lower():\n",
    "                sense_key = l.key()\n",
    "                break\n",
    "            elif l.name().lower() in morphemes:\n",
    "                sense_key = l.key()\n",
    "        if sense_key is not None:\n",
    "            results[sense_key] = synset.examples() if info_type == 'examples' else synset.definition()\n",
    "        else: \n",
    "            continue\n",
    "\n",
    "    return results\n",
    "\n",
    "\n",
    "def get_glosses(lemma, pos):\n",
    "    return _get_info(lemma, pos, info_type='gloss')\n",
    "\n",
    "\n",
    "def get_example_sentences(lemma, pos):\n",
    "    return _get_info(lemma, pos, info_type='examples')\n",
    "\n",
    "\n",
    "def get_all_wordnet_lemma_names():\n",
    "    results = []\n",
    "    for pos, wn_pos in WORDNET_POS.items():\n",
    "        results.append((pos, wn.all_lemma_names(pos=wn_pos)))\n",
    "\n",
    "    return results\n"
   ]
  },
  {
   "cell_type": "code",
   "execution_count": 7,
   "metadata": {},
   "outputs": [],
   "source": [
    "from nltk.corpus import stopwords\n",
    "stop_words = set(stopwords.words('english'))  \n",
    "def checkIfNounChunkInWordNet(nchunk):\n",
    "    nchunk = nchunk.lower()\n",
    "    nchunkWords = nchunk.split()\n",
    "    nchunkWords = [word for word in nchunkWords if word not in stop_words]\n",
    "    nchunkNew = \"_\".join(nchunkWords)\n",
    "    gloss = get_glosses(nchunkNew, None)\n",
    "    if gloss:\n",
    "        return True\n",
    "    else:\n",
    "        return False"
   ]
  },
  {
   "cell_type": "code",
   "execution_count": 38,
   "metadata": {},
   "outputs": [],
   "source": [
    "def getNounChunks(sentence):\n",
    "    doc = nlp(sentence)\n",
    "    return [str(np) for np in doc.noun_chunks]\n",
    "    \n",
    "def generateAmbigiousSentences(sentence):\n",
    "    sentence = sentence.lower()\n",
    "    nounChunks = getNounChunks(sentence)\n",
    "    sentences = []\n",
    "    for nounChunk in nounChunks:\n",
    "        if checkIfNounChunkInWordNet(nounChunk):\n",
    "            sentences.append(generateAmbigiousSentence(nounChunk, sentence))\n",
    "        else:\n",
    "            for word in nounChunk.split():\n",
    "                if checkIfNounChunkInWordNet(word):\n",
    "                    sentences.append(generateAmbigiousSentence(word, sentence))\n",
    "    nounChunkWords = []\n",
    "    for i in nounChunks:\n",
    "        currWords = i.split()\n",
    "        nounChunkWords += currWords\n",
    "    for word in sentence.split():\n",
    "        if word in punctuation:\n",
    "            continue\n",
    "        if word not in stop_words:\n",
    "            if word not in nounChunkWords:\n",
    "                sentences.append(generateAmbigiousSentence(word,sentence))\n",
    "    return sentences\n",
    "\n",
    "def generateAmbigiousSentence(word, sentence):\n",
    "    nsent = sentence.split(word,1)\n",
    "    if len(word.split()) > 1:\n",
    "        word = \"_\".join(word.split())\n",
    "    nsent = nsent[0] + \"[TGT] \" + word + \" [TGT]\" + nsent[1]\n",
    "    nsent = nsent.strip()\n",
    "    return nsent\n",
    "\n",
    "                "
   ]
  },
  {
   "cell_type": "code",
   "execution_count": 15,
   "metadata": {},
   "outputs": [],
   "source": [
    "import en_core_web_sm\n",
    "nlp = en_core_web_sm.load()"
   ]
  },
  {
   "cell_type": "code",
   "execution_count": 51,
   "metadata": {},
   "outputs": [],
   "source": [
    "from tqdm import tqdm\n",
    "def generateAmbFromData(data_source):\n",
    "    ambs = []\n",
    "    for sent in tqdm(data_source):\n",
    "        nambs = []\n",
    "        amb_sents = generateAmbigiousSentences(sent['source'])\n",
    "        for i in amb_sents:\n",
    "            nambs.append({'target':sent['target'],'source':i})\n",
    "        sent['namb'] = nambs\n",
    "        ambs.append(sent)\n",
    "    return ambs"
   ]
  },
  {
   "cell_type": "code",
   "execution_count": 52,
   "metadata": {},
   "outputs": [
    {
     "name": "stderr",
     "output_type": "stream",
     "text": [
      "100%|██████████| 15619/15619 [02:30<00:00, 104.09it/s]\n"
     ]
    }
   ],
   "source": [
    "reddit_ambs = generateAmbFromData(reddit_train)"
   ]
  },
  {
   "cell_type": "code",
   "execution_count": 53,
   "metadata": {},
   "outputs": [
    {
     "name": "stderr",
     "output_type": "stream",
     "text": [
      "100%|██████████| 23643/23643 [03:10<00:00, 123.92it/s]\n"
     ]
    }
   ],
   "source": [
    "ambs1 = generateAmbFromData(gab_train)"
   ]
  },
  {
   "cell_type": "code",
   "execution_count": 54,
   "metadata": {},
   "outputs": [],
   "source": [
    "import json\n",
    "with open('reddit_amb.json','w') as handle:\n",
    "    json.dump(reddit_ambs,handle)\n",
    "with open('gab_amb.json','w') as handle:\n",
    "    json.dump(ambs1,handle)"
   ]
  },
  {
   "cell_type": "code",
   "execution_count": 56,
   "metadata": {},
   "outputs": [
    {
     "data": {
      "text/plain": [
       "{'set': 'reddit',\n",
       " 'main_index': 1702,\n",
       " 'index': 7496,\n",
       " 'type': 'sentences',\n",
       " 'source': 'if you give me that salsa i will love you forever . spicy is the shit .',\n",
       " 'target': 0,\n",
       " 'namb': [{'target': 0,\n",
       "   'source': 'if you give me [TGT] that_salsa [TGT] i will love you forever . spicy is the shit .'},\n",
       "  {'target': 0,\n",
       "   'source': 'if you give me that salsa i will love you forever . [TGT] spicy [TGT] is the shit .'},\n",
       "  {'target': 0,\n",
       "   'source': 'if you give me that salsa i will love you forever . spicy is [TGT] the_shit [TGT] .'},\n",
       "  {'target': 0,\n",
       "   'source': 'if you [TGT] give [TGT] me that salsa i will love you forever . spicy is the shit .'},\n",
       "  {'target': 0,\n",
       "   'source': 'if you give me that salsa i will [TGT] love [TGT] you forever . spicy is the shit .'},\n",
       "  {'target': 0,\n",
       "   'source': 'if you give me that salsa i will love you [TGT] forever [TGT] . spicy is the shit .'}]}"
      ]
     },
     "execution_count": 56,
     "metadata": {},
     "output_type": "execute_result"
    }
   ],
   "source": [
    "reddit_ambs[0]"
   ]
  },
  {
   "cell_type": "code",
   "execution_count": 57,
   "metadata": {},
   "outputs": [
    {
     "data": {
      "text/plain": [
       "['kill yourself you [TGT] whiny [TGT] , self-righteous faggot',\n",
       " 'kill yourself you whiny , [TGT] self-righteous [TGT] faggot',\n",
       " 'kill yourself you whiny , self-righteous [TGT] faggot [TGT]',\n",
       " '[TGT] kill [TGT] yourself you whiny , self-righteous faggot']"
      ]
     },
     "execution_count": 57,
     "metadata": {},
     "output_type": "execute_result"
    }
   ],
   "source": [
    "generateAmbigiousSentences(\"kill yourself you whiny , self-righteous faggot\")"
   ]
  },
  {
   "cell_type": "code",
   "execution_count": 58,
   "metadata": {},
   "outputs": [
    {
     "data": {
      "text/plain": [
       "['but why do they make [TGT] that_face [TGT]',\n",
       " 'but why do they [TGT] make [TGT] that face']"
      ]
     },
     "execution_count": 58,
     "metadata": {},
     "output_type": "execute_result"
    }
   ],
   "source": [
    "generateAmbigiousSentences(\"but why do they make that face\")"
   ]
  },
  {
   "cell_type": "code",
   "execution_count": 65,
   "metadata": {},
   "outputs": [
    {
     "data": {
      "text/plain": [
       "['you should watch [TGT] louis [TGT] le vau ’slatest video . steven oh of tyt is disturbing as hell and makes me hope that jimmy dore wakes the left up',\n",
       " 'you should watch louis [TGT] le [TGT] vau ’slatest video . steven oh of tyt is disturbing as hell and makes me hope that jimmy dore wakes the left up',\n",
       " 'you should watch louis le vau ’slatest [TGT] video [TGT] . steven oh of tyt is disturbing as hell and makes me hope that jimmy dore wakes the left up',\n",
       " 'you should watch louis le vau ’slatest video . steven oh of tyt is disturbing as [TGT] hell [TGT] and makes me hope that jimmy dore wakes the left up',\n",
       " 'you should watch louis le vau ’slatest video . steven oh of tyt is disturbing as hell and makes me hope that [TGT] jimmy [TGT] dore wakes the left up',\n",
       " 'you should watch louis le vau ’slatest video . steven oh of tyt is disturbing as hell and makes me hope that jimmy dore wakes [TGT] the_left [TGT] up',\n",
       " 'you should [TGT] watch [TGT] louis le vau ’slatest video . steven oh of tyt is disturbing as hell and makes me hope that jimmy dore wakes the left up',\n",
       " 'you should watch louis le vau ’slatest video . steven [TGT] oh [TGT] of tyt is disturbing as hell and makes me hope that jimmy dore wakes the left up',\n",
       " 'you should watch louis le vau ’slatest video . steven oh of tyt is [TGT] disturbing [TGT] as hell and makes me hope that jimmy dore wakes the left up',\n",
       " 'you should watch louis le vau ’slatest video . steven oh of tyt is disturbing as hell and [TGT] makes [TGT] me hope that jimmy dore wakes the left up',\n",
       " 'you should watch louis le vau ’slatest video . steven oh of tyt is disturbing as hell and makes me [TGT] hope [TGT] that jimmy dore wakes the left up',\n",
       " 'you should watch louis le vau ’slatest video . steven oh of tyt is disturbing as hell and makes me hope that jimmy dore [TGT] wakes [TGT] the left up']"
      ]
     },
     "execution_count": 65,
     "metadata": {},
     "output_type": "execute_result"
    }
   ],
   "source": [
    "generateAmbigiousSentences(\"you should watch louis le vau ’slatest video . steven oh of tyt is disturbing as hell and makes me hope that jimmy dore wakes the left up \")"
   ]
  },
  {
   "cell_type": "code",
   "execution_count": 62,
   "metadata": {},
   "outputs": [],
   "source": [
    "gloss = get_glosses('shit', None)"
   ]
  },
  {
   "cell_type": "code",
   "execution_count": null,
   "metadata": {},
   "outputs": [],
   "source": []
  },
  {
   "cell_type": "code",
   "execution_count": null,
   "metadata": {},
   "outputs": [],
   "source": []
  }
 ],
 "metadata": {
  "kernelspec": {
   "display_name": "Python 3",
   "language": "python",
   "name": "python3"
  },
  "language_info": {
   "codemirror_mode": {
    "name": "ipython",
    "version": 3
   },
   "file_extension": ".py",
   "mimetype": "text/x-python",
   "name": "python",
   "nbconvert_exporter": "python",
   "pygments_lexer": "ipython3",
   "version": "3.8.3"
  }
 },
 "nbformat": 4,
 "nbformat_minor": 4
}
